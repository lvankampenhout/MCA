{
 "cells": [
  {
   "cell_type": "markdown",
   "metadata": {},
   "source": [
    "In this notebook I do the preprocessing and area weighting in Python, and then calculate the covariance matrix and the SVD in Fortran, using F2py wrapper functions. The results *SHOULD* be identical to the standalone Fortran program, assuming that the area weighting is the same (which is not the case??)."
   ]
  },
  {
   "cell_type": "code",
   "execution_count": 1,
   "metadata": {},
   "outputs": [],
   "source": [
    "import xarray as xr\n",
    "import matplotlib.pyplot as plt\n",
    "import os, os.path\n",
    "import numpy as np\n",
    "import scipy\n",
    "from glob import glob\n",
    "import cartopy.crs as ccrs\n",
    "\n",
    "%matplotlib inline\n",
    "\n",
    "#import svd_nr\n",
    "import svdlib"
   ]
  },
  {
   "cell_type": "code",
   "execution_count": 2,
   "metadata": {},
   "outputs": [
    {
     "name": "stdout",
     "output_type": "stream",
     "text": [
      "svdcmp(a,m,n,w,v,[mp,np])\n",
      "\n",
      "Wrapper for ``svdcmp``.\n",
      "\n",
      "Parameters\n",
      "----------\n",
      "a : input rank-2 array('f') with bounds (mp,np)\n",
      "m : input int\n",
      "n : input int\n",
      "w : input rank-1 array('f') with bounds (np)\n",
      "v : input rank-2 array('f') with bounds (np,np)\n",
      "\n",
      "Other Parameters\n",
      "----------------\n",
      "mp : input int, optional\n",
      "    Default: shape(a,0)\n",
      "np : input int, optional\n",
      "    Default: shape(a,1)\n",
      "\n"
     ]
    }
   ],
   "source": [
    "# SVD decomposition wrapper\n",
    "print( svdlib.svdcmp.__doc__)"
   ]
  },
  {
   "cell_type": "code",
   "execution_count": 3,
   "metadata": {},
   "outputs": [
    {
     "name": "stdout",
     "output_type": "stream",
     "text": [
      "covar(dat1,dat2,a,[nx1,ny1,nxy1,nx2,ny2,nxy2,nt])\n",
      "\n",
      "Wrapper for ``covar``.\n",
      "\n",
      "Parameters\n",
      "----------\n",
      "dat1 : input rank-3 array('f') with bounds (nx1,ny1,nt)\n",
      "dat2 : input rank-3 array('f') with bounds (nx2,ny2,nt)\n",
      "a : input rank-2 array('f') with bounds (nxy1,nxy2)\n",
      "\n",
      "Other Parameters\n",
      "----------------\n",
      "nx1 : input int, optional\n",
      "    Default: shape(dat1,0)\n",
      "ny1 : input int, optional\n",
      "    Default: shape(dat1,1)\n",
      "nxy1 : input int, optional\n",
      "    Default: shape(a,0)\n",
      "nx2 : input int, optional\n",
      "    Default: shape(dat2,0)\n",
      "ny2 : input int, optional\n",
      "    Default: shape(dat2,1)\n",
      "nxy2 : input int, optional\n",
      "    Default: shape(a,1)\n",
      "nt : input int, optional\n",
      "    Default: shape(dat1,2)\n",
      "\n"
     ]
    }
   ],
   "source": [
    "# Covariance matrix wrapper\n",
    "print( svdlib.covar.__doc__)"
   ]
  },
  {
   "cell_type": "markdown",
   "metadata": {},
   "source": [
    "# Prepare input data"
   ]
  },
  {
   "cell_type": "code",
   "execution_count": 4,
   "metadata": {},
   "outputs": [],
   "source": [
    "sst_filename = '/Users/leo/workspace/data/ERSST/v3b/netcdf/sst_all.nc'\n",
    "ds_sst = xr.open_dataset(sst_filename)\n",
    "ds_sst = ds_sst.squeeze('lev') # remove singleton dimension\n",
    "ds_sst_tropical = ds_sst.sel(lat=slice(-20.,20), time=slice('1979','2011'))\n",
    "\n",
    "# ERA INTERIM 200 HPA GEOPOTENTIAL HEIGHT\n",
    "REANALYSIS = \"ERA-I\"\n",
    "h250_filename = '/Users/leo/workspace/data/ERA-Interim/geopotential_flt_1979-2012.nc'\n",
    "ds_h250_global = xr.open_dataset(h250_filename)\n",
    "\n",
    "ds_h250 = ds_h250_global.sel(latitude=slice(88.5,0), time=slice('1979','2011'))\n",
    "ds_h250['lat']=ds_h250['latitude']\n",
    "ds_h250['lon']=ds_h250['longitude']"
   ]
  },
  {
   "cell_type": "code",
   "execution_count": 5,
   "metadata": {},
   "outputs": [
    {
     "data": {
      "text/plain": [
       "(33, 2951)"
      ]
     },
     "execution_count": 5,
     "metadata": {},
     "output_type": "execute_result"
    }
   ],
   "source": [
    "sst_ANN = ds_sst_tropical['sst'].groupby(ds_sst_tropical['time.year']).mean(dim='time')\n",
    "sst_ANN_diff = sst_ANN - sst_ANN.mean(axis=0) # anomalies\n",
    "\n",
    "(nt, nx, ny) = sst_ANN.shape\n",
    "sst_ANN_flat = sst_ANN_diff.values.reshape(nt,nx*ny)\n",
    "#sst_ANN_flat.shape\n",
    "\n",
    "# no SST over land, these result in NaNs we need to filter out\n",
    "mynan = np.isnan(sst_ANN_flat[0,:])\n",
    "#mynan.shape\n",
    "\n",
    "sst_ANN_flat_nonan = sst_ANN_flat[:,~mynan]\n",
    "sst_ANN_flat_nonan.shape"
   ]
  },
  {
   "cell_type": "code",
   "execution_count": 6,
   "metadata": {},
   "outputs": [
    {
     "name": "stdout",
     "output_type": "stream",
     "text": [
      "w2 shape (60, 240) min= 0.161792917978\n",
      "weights [ 0.16179292  0.22877053  0.28010551  0.32330862  0.36128409  0.39551797\n",
      "  0.42689053  0.45597334  0.48316184  0.50874261  0.5329309   0.55589297\n",
      "  0.57776021  0.59863841  0.61861412  0.63775908  0.65613344  0.67378817\n",
      "  0.69076679  0.70710678  0.72284062  0.73799664  0.75259965  0.76667154\n",
      "  0.78023165  0.79329716  0.8058834   0.81800404  0.82967137  0.84089642\n",
      "  0.85168913  0.86205848  0.87201259  0.88155882  0.89070385  0.89945372\n",
      "  0.90781396  0.91578959  0.92338517  0.93060486  0.93745246  0.94393142\n",
      "  0.95004489  0.95579572  0.96118652  0.96621966  0.97089726  0.97522127\n",
      "  0.97919341  0.98281526  0.98608819  0.98901345  0.99159211  0.99382511\n",
      "  0.99571324  0.99725719  0.99845748  0.99931453  0.99982865  1.        ]\n",
      "dimensions 60 240\n"
     ]
    },
    {
     "data": {
      "text/plain": [
       "(33, 14400)"
      ]
     },
     "execution_count": 6,
     "metadata": {},
     "output_type": "execute_result"
    }
   ],
   "source": [
    "# area weighting\n",
    "def cosdeg(ar):\n",
    "    \"\"\" Cosine in degrees\"\"\"\n",
    "    return np.cos(np.deg2rad(ar))\n",
    "\n",
    "def sindeg(ar):\n",
    "    \"\"\" sine in degrees\"\"\"\n",
    "    return np.sin(np.deg2rad(ar))\n",
    "\n",
    "lon2d, lat2d = np.meshgrid(ds_h250.variables['lon'], ds_h250.variables['lat'])\n",
    "lat2d = lat2d[::2,::2] # resampling\n",
    "\n",
    "#lat2d_flat = lat2d.reshape(nx2*ny2)\n",
    "#lat2d_flat_nt = np.tile(lat2d_flat,1).reshape(1,nx2*ny2)\n",
    "#w2 = np.sqrt(cosdeg(lat2d_flat_nt))\n",
    "\n",
    "w2 = np.sqrt(cosdeg(lat2d))\n",
    "print('w2 shape',w2.shape, 'min=', w2.min())\n",
    "print('weights', w2[:,0])\n",
    "\n",
    "\n",
    "# Preparing Z200 anomalies\n",
    "h250_ANN = ds_h250['Z200'].groupby(ds_h250['time.year']).mean(dim='time')\n",
    "h250_ANN_diff = h250_ANN - h250_ANN.mean(axis=0) # anomalies\n",
    "h250_ANN_diff = h250_ANN_diff[:,::2,::2] # resampling\n",
    "\n",
    "(nt2, nx2, ny2) = h250_ANN_diff.shape\n",
    "print('dimensions', nx2,ny2)\n",
    "\n",
    "# Apply weights\n",
    "h250_ANN_diff *= w2\n",
    "\n",
    "h250_ANN_flat = h250_ANN_diff.values.reshape(nt2,nx2*ny2)\n",
    "\n",
    "# 0.5 degree resolution gives long array \n",
    "h250_ANN_flat.shape"
   ]
  },
  {
   "cell_type": "code",
   "execution_count": 7,
   "metadata": {},
   "outputs": [
    {
     "name": "stdout",
     "output_type": "stream",
     "text": [
      "(60, 240)\n"
     ]
    },
    {
     "data": {
      "text/plain": [
       "<matplotlib.colorbar.Colorbar at 0x10f83d780>"
      ]
     },
     "execution_count": 7,
     "metadata": {},
     "output_type": "execute_result"
    },
    {
     "data": {
      "image/png": "[encoded data removed]",
      "text/plain": [
       "<matplotlib.figure.Figure at 0x10ff2d550>"
      ]
     },
     "metadata": {},
     "output_type": "display_data"
    }
   ],
   "source": [
    "print(lat2d.shape)\n",
    "plt.imshow(lat2d)\n",
    "plt.colorbar(orientation='horizontal')"
   ]
  },
  {
   "cell_type": "code",
   "execution_count": 8,
   "metadata": {},
   "outputs": [
    {
     "name": "stdout",
     "output_type": "stream",
     "text": [
      "(60, 240)\n"
     ]
    },
    {
     "data": {
      "text/plain": [
       "<matplotlib.colorbar.Colorbar at 0x114653240>"
      ]
     },
     "execution_count": 8,
     "metadata": {},
     "output_type": "execute_result"
    },
    {
     "data": {
      "image/png": "[encoded data removed]",
      "text/plain": [
       "<matplotlib.figure.Figure at 0x10ff2d3c8>"
      ]
     },
     "metadata": {},
     "output_type": "display_data"
    }
   ],
   "source": [
    "print(w2.shape)\n",
    "plt.imshow(w2)\n",
    "plt.colorbar(orientation='horizontal')"
   ]
  },
  {
   "cell_type": "markdown",
   "metadata": {},
   "source": [
    "# Calling Fortran SVD routine"
   ]
  },
  {
   "cell_type": "markdown",
   "metadata": {},
   "source": [
    "## Covariance matrix"
   ]
  },
  {
   "cell_type": "code",
   "execution_count": 9,
   "metadata": {},
   "outputs": [
    {
     "name": "stdout",
     "output_type": "stream",
     "text": [
      "dat1 shape (240, 60, 33)\n",
      "dat2 shape (2951, 1, 33)\n"
     ]
    }
   ],
   "source": [
    "\"\"\"\n",
    "covar(dat1,dat2,a,[nx1,ny1,nxy1,nx2,ny2,nxy2,nt])\n",
    "\n",
    "Parameters\n",
    "----------\n",
    "dat1 : input rank-3 array('f') with bounds (nx1,ny1,nt)\n",
    "dat2 : input rank-3 array('f') with bounds (nx2,ny2,nt)\n",
    "a : input rank-2 array('f') with bounds (nxy1,nxy2)\n",
    "\n",
    "Other Parameters\n",
    "----------------\n",
    "nx1 : input int, optional\n",
    "    Default: shape(dat1,0)\n",
    "ny1 : input int, optional\n",
    "    Default: shape(dat1,1)\n",
    "nxy1 : input int, optional\n",
    "    Default: shape(a,0)\n",
    "nx2 : input int, optional\n",
    "    Default: shape(dat2,0)\n",
    "ny2 : input int, optional\n",
    "    Default: shape(dat2,1)\n",
    "nxy2 : input int, optional\n",
    "    Default: shape(a,1)\n",
    "nt : input int, optional\n",
    "    Default: shape(dat1,2)\n",
    "\"\"\" \n",
    "\n",
    "dat1 = h250_ANN_diff.values.transpose((2,1,0))\n",
    "dat1 = dat1.astype(np.float32, order='F')\n",
    "\n",
    "print('dat1 shape', dat1.shape)\n",
    "\n",
    "nx1 = dat1.shape[0]\n",
    "ny1 = dat1.shape[1]\n",
    "nt  = dat1.shape[2]\n",
    "nxy1 = nx1 * ny1\n",
    "\n",
    "dat2 = sst_ANN_flat_nonan.transpose((1,0))\n",
    "dat2 = dat2[:,np.newaxis,:]\n",
    "dat2 = dat2.astype(np.float32, order='F')\n",
    "print('dat2 shape', dat2.shape)\n",
    "\n",
    "nx2 = dat2.shape[0]\n",
    "ny2 = dat2.shape[1]\n",
    "nt2 = dat2.shape[2]\n",
    "nxy2 = nx2*ny2\n",
    "\n",
    "assert nt==nt2, 'nt = %d, nt2 = %d' %(nt,nt2)"
   ]
  },
  {
   "cell_type": "code",
   "execution_count": 10,
   "metadata": {},
   "outputs": [],
   "source": [
    "A = np.empty((nxy1,nxy2),order='F',dtype=np.float32)"
   ]
  },
  {
   "cell_type": "code",
   "execution_count": 11,
   "metadata": {},
   "outputs": [
    {
     "data": {
      "text/plain": [
       "(True, True, True)"
      ]
     },
     "execution_count": 11,
     "metadata": {},
     "output_type": "execute_result"
    }
   ],
   "source": [
    "np.isfortran(dat1), np.isfortran(dat2), np.isfortran(A)"
   ]
  },
  {
   "cell_type": "code",
   "execution_count": 12,
   "metadata": {},
   "outputs": [
    {
     "data": {
      "text/plain": [
       "(dtype('float32'), dtype('float32'), dtype('float32'))"
      ]
     },
     "execution_count": 12,
     "metadata": {},
     "output_type": "execute_result"
    }
   ],
   "source": [
    "dat1.dtype, dat2.dtype, A.dtype"
   ]
  },
  {
   "cell_type": "code",
   "execution_count": 13,
   "metadata": {},
   "outputs": [],
   "source": [
    "#svdlib.covar(dat1,dat2,A,nx1,ny1,nxy1,nx2,ny2,nxy2,nt1)\n",
    "svdlib.covar(dat1,dat2,A)"
   ]
  },
  {
   "cell_type": "markdown",
   "metadata": {},
   "source": [
    "## compute SVD"
   ]
  },
  {
   "cell_type": "code",
   "execution_count": 14,
   "metadata": {},
   "outputs": [],
   "source": [
    "\"\"\"\n",
    "svdcmp(a,m,n,w,v,[mp,np])\n",
    "\n",
    "Wrapper for ``svdcmp``.\n",
    "\n",
    "Parameters\n",
    "----------\n",
    "a : input rank-2 array('f') with bounds (mp,np)\n",
    "m : input int\n",
    "n : input int\n",
    "w : input rank-1 array('f') with bounds (np)\n",
    "v : input rank-2 array('f') with bounds (np,np)\n",
    "\n",
    "Other Parameters\n",
    "----------------\n",
    "mp : input int, optional\n",
    "    Default: shape(a,0)\n",
    "np : input int, optional\n",
    "    Default: shape(a,1)\n",
    "\n",
    "\"\"\"\n",
    "s = np.empty((nxy2), dtype=np.float32, order='F')\n",
    "V = np.empty((nxy2,nxy2), dtype=np.float32, order='F')"
   ]
  },
  {
   "cell_type": "code",
   "execution_count": 21,
   "metadata": {},
   "outputs": [
    {
     "data": {
      "text/plain": [
       "dtype('float32')"
      ]
     },
     "execution_count": 21,
     "metadata": {},
     "output_type": "execute_result"
    }
   ],
   "source": [
    "U = A.copy(order='F') # keep covariance matrix A\n",
    "U.dtype"
   ]
  },
  {
   "cell_type": "code",
   "execution_count": 22,
   "metadata": {},
   "outputs": [],
   "source": [
    "# Calculate SVD (takes a long time!! )\n",
    "svdlib.svdcmp(U,nxy1,nxy2,s,V)"
   ]
  },
  {
   "cell_type": "code",
   "execution_count": 31,
   "metadata": {},
   "outputs": [
    {
     "data": {
      "text/plain": [
       "((14400, 2951), (2951,), (2951, 2951))"
      ]
     },
     "execution_count": 31,
     "metadata": {},
     "output_type": "execute_result"
    }
   ],
   "source": [
    "U.shape, s.shape, V.shape"
   ]
  },
  {
   "cell_type": "markdown",
   "metadata": {},
   "source": [
    "# Analysis"
   ]
  },
  {
   "cell_type": "code",
   "execution_count": 32,
   "metadata": {},
   "outputs": [
    {
     "data": {
      "text/plain": [
       "0.038985491"
      ]
     },
     "execution_count": 32,
     "metadata": {},
     "output_type": "execute_result"
    }
   ],
   "source": [
    "A_reconstructed = np.dot(np.dot(U,np.diag(s)), V.T)\n",
    "np.linalg.norm(A-A_reconstructed)"
   ]
  },
  {
   "cell_type": "code",
   "execution_count": 33,
   "metadata": {},
   "outputs": [
    {
     "name": "stdout",
     "output_type": "stream",
     "text": [
      "[ 0.51722455  0.42107764  0.02924085]\n"
     ]
    }
   ],
   "source": [
    "scf = s**2./np.sum(s**2.)\n",
    "print(scf[:3])"
   ]
  },
  {
   "cell_type": "code",
   "execution_count": 42,
   "metadata": {},
   "outputs": [
    {
     "name": "stdout",
     "output_type": "stream",
     "text": [
      "(21, 180)\n"
     ]
    }
   ],
   "source": [
    "imode = 1 # select mode number\n",
    "\n",
    "# Convert 1d arrays to spatial patterns\n",
    "# Display modal information\n",
    "mc_sst = np.ma.masked_array(np.zeros(sst_ANN_flat.shape[1])) # no time dimension\n",
    "mc_sst[~mynan] = - V[:,imode] # sign is arbitrary\n",
    "mc_sst[mynan] = np.ma.masked\n",
    "mc_sst = mc_sst.reshape(nx,ny) #* stt_ANN[0,:,:] # multiply with anomalies\n",
    "print(mc_sst.shape)\n",
    "\n",
    "# convert to DataArray to facilitate further processing\n",
    "mc_sst_da = xr.DataArray(mc_sst, coords=[ds_sst_tropical['lat'], ds_sst_tropical['lon']], dims=['lat', 'lon'])"
   ]
  },
  {
   "cell_type": "code",
   "execution_count": 43,
   "metadata": {},
   "outputs": [
    {
     "data": {
      "image/png": "[encoded data removed]",
      "text/plain": [
       "<matplotlib.figure.Figure at 0x1281b5c88>"
      ]
     },
     "metadata": {},
     "output_type": "display_data"
    }
   ],
   "source": [
    "myproj = ccrs.PlateCarree()\n",
    "myproj2 = ccrs.PlateCarree(central_longitude = -180.)\n",
    "fig, axes = plt.subplots(1, figsize=(12,5),subplot_kw={'projection': myproj2})\n",
    "cmap='BrBG_r'\n",
    "\n",
    "def plot_mode_sst(ds, ax):    \n",
    "    lon2d, lat2d = np.meshgrid(ds['lon'], ds['lat'])\n",
    "    absmax = np.abs(ds).max().values\n",
    "    levs = [-1,-0.7,-0.4,-0.1,0.1,0.4,0.7,1]\n",
    "    levs = [-0.4,-0.3,-0.2,-0.1,0.1,0.2,0.3,0.4]\n",
    "#    levs = np.linspace(-absmax, absmax, 11)\n",
    "    \n",
    "    cf = ax.contourf(lon2d, lat2d, ds.values, \n",
    "        transform = myproj, \n",
    "                     #levels=levs,\n",
    "        cmap=cmap, extend='both')\n",
    "    \n",
    "    ax.coastlines()\n",
    "    ax.set_global()\n",
    "    ax.set_ylim(-30,90)\n",
    "\n",
    "    ax.set_title('SST anomaly, mode = %d' % imode)\n",
    "    cb = fig.colorbar(cf, ax=ax, label=\"non-dimensional\")\n",
    "    fig.tight_layout()\n",
    "    #ax.set_extent([1, 360, -30, 90], myproj)\n",
    "    \n",
    "ax = axes\n",
    "plot_mode_sst(mc_sst_da, ax)"
   ]
  },
  {
   "cell_type": "code",
   "execution_count": null,
   "metadata": {},
   "outputs": [],
   "source": []
  }
 ],
 "metadata": {
  "kernelspec": {
   "display_name": "Python [default]",
   "language": "python",
   "name": "python3"
  },
  "language_info": {
   "codemirror_mode": {
    "name": "ipython",
    "version": 3
   },
   "file_extension": ".py",
   "mimetype": "text/x-python",
   "name": "python",
   "nbconvert_exporter": "python",
   "pygments_lexer": "ipython3",
   "version": "3.6.4"
  }
 },
 "nbformat": 4,
 "nbformat_minor": 2
}
